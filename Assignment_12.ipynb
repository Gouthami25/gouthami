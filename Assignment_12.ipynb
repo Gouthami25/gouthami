{
  "nbformat": 4,
  "nbformat_minor": 0,
  "metadata": {
    "colab": {
      "name": "Assignment 12",
      "provenance": [],
      "authorship_tag": "ABX9TyN71zixq8W5qRjVBvRqDrfK",
      "include_colab_link": true
    },
    "kernelspec": {
      "name": "python3",
      "display_name": "Python 3"
    }
  },
  "cells": [
    {
      "cell_type": "markdown",
      "metadata": {
        "id": "view-in-github",
        "colab_type": "text"
      },
      "source": [
        "<a href=\"https://colab.research.google.com/github/Gouthami25/gouthami/blob/master/Assignment_12.ipynb\" target=\"_parent\"><img src=\"https://colab.research.google.com/assets/colab-badge.svg\" alt=\"Open In Colab\"/></a>"
      ]
    },
    {
      "cell_type": "code",
      "metadata": {
        "id": "MlNPvrZXlH3o",
        "colab_type": "code",
        "colab": {}
      },
      "source": [
        ""
      ],
      "execution_count": null,
      "outputs": []
    },
    {
      "cell_type": "markdown",
      "metadata": {
        "id": "NB2JecyslJ05",
        "colab_type": "text"
      },
      "source": [
        " Python program to create a tuple."
      ]
    },
    {
      "cell_type": "code",
      "metadata": {
        "id": "QdwbVoIUlSj4",
        "colab_type": "code",
        "colab": {
          "base_uri": "https://localhost:8080/",
          "height": 86
        },
        "outputId": "f202301b-0322-4e4b-cad3-068c92260c7c"
      },
      "source": [
        " my_tuple = ()\n",
        "print(my_tuple)\n",
        "my_tuple = (1, 2, 3)\n",
        "print(my_tuple)\n",
        "my_tuple = (1, \"Hello\", 3.4)\n",
        "print(my_tuple)\n",
        "my_tuple = (\"mouse\", [8, 4, 6], (1, 2, 3))\n",
        "print(my_tuple)"
      ],
      "execution_count": 1,
      "outputs": [
        {
          "output_type": "stream",
          "text": [
            "()\n",
            "(1, 2, 3)\n",
            "(1, 'Hello', 3.4)\n",
            "('mouse', [8, 4, 6], (1, 2, 3))\n"
          ],
          "name": "stdout"
        }
      ]
    },
    {
      "cell_type": "markdown",
      "metadata": {
        "id": "lRotfsWFlk4p",
        "colab_type": "text"
      },
      "source": [
        "  Python program to create a tuple with different data types."
      ]
    },
    {
      "cell_type": "code",
      "metadata": {
        "id": "XaLhYJlzloeG",
        "colab_type": "code",
        "colab": {
          "base_uri": "https://localhost:8080/",
          "height": 34
        },
        "outputId": "30e4f370-d46c-4f89-cf38-7ad70f593a3b"
      },
      "source": [
        " tuplex = (\"tuple\", False, 3.2, 1)\n",
        "print(tuplex)"
      ],
      "execution_count": 2,
      "outputs": [
        {
          "output_type": "stream",
          "text": [
            "('tuple', False, 3.2, 1)\n"
          ],
          "name": "stdout"
        }
      ]
    },
    {
      "cell_type": "markdown",
      "metadata": {
        "id": "t688wpwUlsp-",
        "colab_type": "text"
      },
      "source": [
        "  Python program to convert a tuple to a string."
      ]
    },
    {
      "cell_type": "code",
      "metadata": {
        "id": "mzcNvf31lxf1",
        "colab_type": "code",
        "colab": {
          "base_uri": "https://localhost:8080/",
          "height": 34
        },
        "outputId": "75f7d783-f1b3-46bd-fc50-a4a183ae427c"
      },
      "source": [
        " tup = ('l', 'u', 'c', 'k', 'y',)\n",
        "str =  ''.join(tup)\n",
        "print(str)"
      ],
      "execution_count": 3,
      "outputs": [
        {
          "output_type": "stream",
          "text": [
            "lucky\n"
          ],
          "name": "stdout"
        }
      ]
    },
    {
      "cell_type": "markdown",
      "metadata": {
        "id": "4nrnZy7gmEA1",
        "colab_type": "text"
      },
      "source": [
        "  Python program to slice a tuple."
      ]
    },
    {
      "cell_type": "code",
      "metadata": {
        "id": "IPLNzKewmFcB",
        "colab_type": "code",
        "colab": {
          "base_uri": "https://localhost:8080/",
          "height": 106
        },
        "outputId": "9321a7a3-4467-44e0-f196-0cfc362320c6"
      },
      "source": [
        " tuplex = tuple(\"HELLO WORLD\")\n",
        "print(tuplex)\n",
        "_slice = tuplex[2:9:2]\n",
        "print(_slice) \n",
        "_slice = tuplex[::4]\n",
        "print(_slice)\n",
        "_slice = tuplex[9:2:-4]\n",
        "print(_slice)"
      ],
      "execution_count": 4,
      "outputs": [
        {
          "output_type": "stream",
          "text": [
            "('H', 'E', 'L', 'L', 'O', ' ', 'W', 'O', 'R', 'L', 'D')\n",
            "('L', 'O', 'W', 'R')\n",
            "('H', 'O', 'R')\n",
            "('L', ' ')\n"
          ],
          "name": "stdout"
        }
      ]
    },
    {
      "cell_type": "markdown",
      "metadata": {
        "id": "6qZT8JBomM4z",
        "colab_type": "text"
      },
      "source": [
        " Python program to find the length of a tuple."
      ]
    },
    {
      "cell_type": "code",
      "metadata": {
        "id": "Rwhvv8N_mQNR",
        "colab_type": "code",
        "colab": {
          "base_uri": "https://localhost:8080/",
          "height": 71
        },
        "outputId": "ef518781-515c-4e63-e301-057fa5f546b5"
      },
      "source": [
        " tuplex = tuple(\"python programming\")\n",
        "print(tuplex)\n",
        "print(len(tuplex))"
      ],
      "execution_count": 5,
      "outputs": [
        {
          "output_type": "stream",
          "text": [
            "('p', 'y', 't', 'h', 'o', 'n', ' ', 'p', 'r', 'o', 'g', 'r', 'a', 'm', 'm', 'i', 'n', 'g')\n",
            "18\n"
          ],
          "name": "stdout"
        }
      ]
    },
    {
      "cell_type": "markdown",
      "metadata": {
        "id": "2oVtFsMrmV2L",
        "colab_type": "text"
      },
      "source": [
        " Python program to convert a tuple to a dictionary."
      ]
    },
    {
      "cell_type": "code",
      "metadata": {
        "id": "wENFwUkwmadL",
        "colab_type": "code",
        "colab": {
          "base_uri": "https://localhost:8080/",
          "height": 34
        },
        "outputId": "993aad31-d27e-47e8-b217-9f8260cf850c"
      },
      "source": [
        " tuplex = ((2, \"w\"),(3, \"r\"))\n",
        "print(dict((y, x) for x, y in tuplex))"
      ],
      "execution_count": 6,
      "outputs": [
        {
          "output_type": "stream",
          "text": [
            "{'w': 2, 'r': 3}\n"
          ],
          "name": "stdout"
        }
      ]
    },
    {
      "cell_type": "markdown",
      "metadata": {
        "id": "qtqTl5r9mnlC",
        "colab_type": "text"
      },
      "source": [
        " Python program to reverse a tuple."
      ]
    },
    {
      "cell_type": "code",
      "metadata": {
        "id": "3BYkEenVmofL",
        "colab_type": "code",
        "colab": {
          "base_uri": "https://localhost:8080/",
          "height": 34
        },
        "outputId": "1ed266d2-b1c9-4ad5-e462-ca2ffc60cb95"
      },
      "source": [
        " x = (\"python\")\n",
        "y = reversed(x)\n",
        "print(tuple(y))"
      ],
      "execution_count": 7,
      "outputs": [
        {
          "output_type": "stream",
          "text": [
            "('n', 'o', 'h', 't', 'y', 'p')\n"
          ],
          "name": "stdout"
        }
      ]
    },
    {
      "cell_type": "markdown",
      "metadata": {
        "id": "D2q5U_wJnSrR",
        "colab_type": "text"
      },
      "source": [
        " Python program to convert a list of tuples into a dictionary."
      ]
    },
    {
      "cell_type": "code",
      "metadata": {
        "id": "iTU-wzvjnTz3",
        "colab_type": "code",
        "colab": {
          "base_uri": "https://localhost:8080/",
          "height": 54
        },
        "outputId": "2e206de1-a5cc-4ef8-fbb7-8c17b7ad1177"
      },
      "source": [
        " l = [(\"x\", 1), (\"x\", 2), (\"x\", 3), (\"y\", 1), (\"y\", 2), (\"z\", 1)]\n",
        "d = {}\n",
        "for a, b in l:\n",
        "    d.setdefault(a, []).append(b)\n",
        "print (d)"
      ],
      "execution_count": 8,
      "outputs": [
        {
          "output_type": "stream",
          "text": [
            "{'x': [1, 2, 3], 'y': [1, 2], 'z': [1]}\n"
          ],
          "name": "stdout"
        }
      ]
    },
    {
      "cell_type": "markdown",
      "metadata": {
        "id": "bx0oweKDn9Vc",
        "colab_type": "text"
      },
      "source": [
        " Python program to convert a list of tuple."
      ]
    },
    {
      "cell_type": "code",
      "metadata": {
        "id": "SEemLvlin-Nb",
        "colab_type": "code",
        "colab": {
          "base_uri": "https://localhost:8080/",
          "height": 34
        },
        "outputId": "98b3051b-179a-4754-f471-1752064a9bd5"
      },
      "source": [
        " listx = [5, 10, 7, 4, 15, 3]\n",
        "tuplex = tuple(listx)\n",
        "print(tuplex)"
      ],
      "execution_count": 9,
      "outputs": [
        {
          "output_type": "stream",
          "text": [
            "(5, 10, 7, 4, 15, 3)\n"
          ],
          "name": "stdout"
        }
      ]
    }
  ]
}