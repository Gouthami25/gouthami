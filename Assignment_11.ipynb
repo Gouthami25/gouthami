{
  "nbformat": 4,
  "nbformat_minor": 0,
  "metadata": {
    "colab": {
      "name": "Assignment 11",
      "provenance": [],
      "authorship_tag": "ABX9TyOKhp11t6T1gvLH+Xr+LvZL",
      "include_colab_link": true
    },
    "kernelspec": {
      "name": "python3",
      "display_name": "Python 3"
    }
  },
  "cells": [
    {
      "cell_type": "markdown",
      "metadata": {
        "id": "view-in-github",
        "colab_type": "text"
      },
      "source": [
        "<a href=\"https://colab.research.google.com/github/Gouthami25/gouthami/blob/master/Assignment_11.ipynb\" target=\"_parent\"><img src=\"https://colab.research.google.com/assets/colab-badge.svg\" alt=\"Open In Colab\"/></a>"
      ]
    },
    {
      "cell_type": "code",
      "metadata": {
        "id": "uOHk9I-FwjUc",
        "colab_type": "code",
        "colab": {}
      },
      "source": [
        ""
      ],
      "execution_count": null,
      "outputs": []
    },
    {
      "cell_type": "markdown",
      "metadata": {
        "id": "ry5PxJgvwoe9",
        "colab_type": "text"
      },
      "source": [
        " 1.write a python program to read an entire text file"
      ]
    },
    {
      "cell_type": "code",
      "metadata": {
        "id": "cQ7JSLHGxm8B",
        "colab_type": "code",
        "colab": {}
      },
      "source": [
        " f=open(\"python.txt\",\"w\")\n",
        "f.close()"
      ],
      "execution_count": 3,
      "outputs": []
    },
    {
      "cell_type": "code",
      "metadata": {
        "id": "5ztq1qI7xqYr",
        "colab_type": "code",
        "colab": {}
      },
      "source": [
        " f=open(\"python1.txt\",\"w\")\n",
        "f.write(\"hey how do you do\")\n",
        "f.close()"
      ],
      "execution_count": 4,
      "outputs": []
    },
    {
      "cell_type": "code",
      "metadata": {
        "id": "eQhGVN0Pyt2-",
        "colab_type": "code",
        "colab": {
          "base_uri": "https://localhost:8080/",
          "height": 34
        },
        "outputId": "39610d53-cf93-4f8c-91fd-db7a6771c71b"
      },
      "source": [
        " f=open(\"python1.txt\",\"r\")\n",
        "str=f.read()\n",
        "print(str)\n",
        "f.close()"
      ],
      "execution_count": 5,
      "outputs": [
        {
          "output_type": "stream",
          "text": [
            "hey how do you do\n"
          ],
          "name": "stdout"
        }
      ]
    },
    {
      "cell_type": "markdown",
      "metadata": {
        "id": "UW4ztfu5z5pZ",
        "colab_type": "text"
      },
      "source": [
        " 2.write a python program to read first n lines of a file"
      ]
    },
    {
      "cell_type": "code",
      "metadata": {
        "id": "vssKE7K7z9vB",
        "colab_type": "code",
        "colab": {}
      },
      "source": [
        " a_file=open(\"file_name.txt\",\"w\")\n",
        "f.close()"
      ],
      "execution_count": 6,
      "outputs": []
    },
    {
      "cell_type": "code",
      "metadata": {
        "id": "VdvOsUo60LPP",
        "colab_type": "code",
        "colab": {
          "base_uri": "https://localhost:8080/",
          "height": 34
        },
        "outputId": "c6a958f0-a820-4407-a268-95f62679483a"
      },
      "source": [
        " a_file = open(\"file_name.txt\")\n",
        "number_of_lines = 3\n",
        "for i in range(number_of_lines):\n",
        "    line = a_file.readline()\n",
        "print(line)"
      ],
      "execution_count": 7,
      "outputs": [
        {
          "output_type": "stream",
          "text": [
            "\n"
          ],
          "name": "stdout"
        }
      ]
    },
    {
      "cell_type": "markdown",
      "metadata": {
        "id": "ogxlppWi0Pxo",
        "colab_type": "text"
      },
      "source": [
        " Write a Python program to append text to a file and display the text."
      ]
    },
    {
      "cell_type": "code",
      "metadata": {
        "id": "Koo7L_A80UtF",
        "colab_type": "code",
        "colab": {}
      },
      "source": [
        " f=open(\"python.txt\",\"w\")\n",
        "f.close()"
      ],
      "execution_count": 8,
      "outputs": []
    },
    {
      "cell_type": "code",
      "metadata": {
        "id": "_rhrdkhM0ZoQ",
        "colab_type": "code",
        "colab": {}
      },
      "source": [
        " f=open(\"python1.txt\",\"w\")\n",
        "f.write(\"hey how do you do\")\n",
        "f.close()"
      ],
      "execution_count": 9,
      "outputs": []
    },
    {
      "cell_type": "code",
      "metadata": {
        "id": "gMIiFH321suw",
        "colab_type": "code",
        "colab": {
          "base_uri": "https://localhost:8080/",
          "height": 34
        },
        "outputId": "be35c5c3-4c78-4602-c6dc-abf1f24ec63f"
      },
      "source": [
        " f=open(\"python1.txt\",\"r\")\n",
        "print(f.read())\n",
        "f.close()"
      ],
      "execution_count": 11,
      "outputs": [
        {
          "output_type": "stream",
          "text": [
            "hey how do you do\n"
          ],
          "name": "stdout"
        }
      ]
    },
    {
      "cell_type": "code",
      "metadata": {
        "id": "zIDA-PLN2pPY",
        "colab_type": "code",
        "colab": {}
      },
      "source": [
        " f=open(\"python1.txt\",\"a\")\n",
        "s='''am \n",
        "   Fine'''\n",
        "f.write(s)\n",
        "f.close()"
      ],
      "execution_count": 12,
      "outputs": []
    },
    {
      "cell_type": "markdown",
      "metadata": {
        "id": "6LPxOd0X2v9i",
        "colab_type": "text"
      },
      "source": [
        " 4.Write a Python program to read last n lines of a file."
      ]
    },
    {
      "cell_type": "code",
      "metadata": {
        "id": "O-HG_uKe2w1K",
        "colab_type": "code",
        "colab": {
          "base_uri": "https://localhost:8080/",
          "height": 34
        },
        "outputId": "a2eb6617-c8c2-4473-893a-1953f4051b48"
      },
      "source": [
        " def LastNlines(fname, N):\n",
        "  with open(fname) as file:\n",
        "    for line in (file.readlines() [-N:]):\n",
        "      print(line, end ='')\n",
        "if __name__ == '__main__':\n",
        "  fname = 'File1.txt'\n",
        "  N = 3\n",
        "  try:\n",
        "   LastNlines(fname, N) \n",
        "  except:\n",
        "   print('File not found')"
      ],
      "execution_count": 13,
      "outputs": [
        {
          "output_type": "stream",
          "text": [
            "File not found\n"
          ],
          "name": "stdout"
        }
      ]
    },
    {
      "cell_type": "markdown",
      "metadata": {
        "id": "GSLkeAwk3bx1",
        "colab_type": "text"
      },
      "source": [
        " 5.Write a Python program to read a file line by line store it into a variable."
      ]
    },
    {
      "cell_type": "code",
      "metadata": {
        "id": "bLGV7dQG3f7j",
        "colab_type": "code",
        "colab": {}
      },
      "source": [
        " f1=open(\"test.txt\",\"w\")\n",
        "f.close()"
      ],
      "execution_count": 14,
      "outputs": []
    },
    {
      "cell_type": "code",
      "metadata": {
        "id": "sBZptCnl3lNb",
        "colab_type": "code",
        "colab": {}
      },
      "source": [
        " f1=open(\"test1.txt\",\"w\")\n",
        "f1.write(\"hi\")\n",
        "f.close()"
      ],
      "execution_count": 15,
      "outputs": []
    },
    {
      "cell_type": "code",
      "metadata": {
        "id": "BlKDBRNQ3udo",
        "colab_type": "code",
        "colab": {
          "base_uri": "https://localhost:8080/",
          "height": 34
        },
        "outputId": "f985e0b2-1b46-4675-8dee-10cdb1effd27"
      },
      "source": [
        " f1=open('test1.txt').readlines()\n",
        "print(f1)"
      ],
      "execution_count": 17,
      "outputs": [
        {
          "output_type": "stream",
          "text": [
            "['hi']\n"
          ],
          "name": "stdout"
        }
      ]
    },
    {
      "cell_type": "markdown",
      "metadata": {
        "id": "d3GGz4fa4ARM",
        "colab_type": "text"
      },
      "source": [
        " 6.write a program to read a file line by line store it into a list"
      ]
    },
    {
      "cell_type": "code",
      "metadata": {
        "id": "otRCgjcr4C8C",
        "colab_type": "code",
        "colab": {}
      },
      "source": [
        " infile=open(\"test.txt\",\"w\")\n",
        "f.close()"
      ],
      "execution_count": 18,
      "outputs": []
    },
    {
      "cell_type": "code",
      "metadata": {
        "id": "RTmVKo0a4Ja0",
        "colab_type": "code",
        "colab": {}
      },
      "source": [
        " infile=open(\"test1.txt\",\"w\")\n",
        "infile.write(\"hello\")\n",
        "f.close()"
      ],
      "execution_count": 19,
      "outputs": []
    },
    {
      "cell_type": "code",
      "metadata": {
        "id": "Rom1I-x54O1B",
        "colab_type": "code",
        "colab": {
          "base_uri": "https://localhost:8080/",
          "height": 34
        },
        "outputId": "87e43e98-27f0-4f3d-a9a8-5595bf9b5626"
      },
      "source": [
        " infile = \"test1.txt\"\n",
        "content_list = open(infile).readlines()\n",
        "print (content_list)"
      ],
      "execution_count": 20,
      "outputs": [
        {
          "output_type": "stream",
          "text": [
            "['hello']\n"
          ],
          "name": "stdout"
        }
      ]
    },
    {
      "cell_type": "markdown",
      "metadata": {
        "id": "MZ0P122p4VgT",
        "colab_type": "text"
      },
      "source": [
        " 7.write a python program to read a file line by line store it into a array."
      ]
    },
    {
      "cell_type": "code",
      "metadata": {
        "id": "Grz0DMaq4WaL",
        "colab_type": "code",
        "colab": {}
      },
      "source": [
        " f2=open(\"test1.txt\",\"w\")\n",
        "f.close()"
      ],
      "execution_count": 21,
      "outputs": []
    },
    {
      "cell_type": "code",
      "metadata": {
        "id": "EdUEYYIj4jT2",
        "colab_type": "code",
        "colab": {}
      },
      "source": [
        " f2=open(\"test1.txt\",\"w\")\n",
        "s='''how\n",
        "     are\n",
        "     You'''\n",
        "f2.write(s)\n",
        "f.close()"
      ],
      "execution_count": 22,
      "outputs": []
    },
    {
      "cell_type": "code",
      "metadata": {
        "id": "D_XRpVSv4tdL",
        "colab_type": "code",
        "colab": {
          "base_uri": "https://localhost:8080/",
          "height": 54
        },
        "outputId": "46f8248f-b016-49b8-b26b-a62e8a33424d"
      },
      "source": [
        " f2=(\"test1.txt\")\n",
        "content_array=open(f2).readlines()\n",
        "print(content_array)"
      ],
      "execution_count": 23,
      "outputs": [
        {
          "output_type": "stream",
          "text": [
            "['how\\n', '    are\\n', '    You']\n"
          ],
          "name": "stdout"
        }
      ]
    },
    {
      "cell_type": "markdown",
      "metadata": {
        "id": "uKzQvTP04vsA",
        "colab_type": "text"
      },
      "source": [
        " 8.Write a Python program to count the number of lines in a text file."
      ]
    },
    {
      "cell_type": "code",
      "metadata": {
        "id": "ZM_NagPf4zjw",
        "colab_type": "code",
        "colab": {}
      },
      "source": [
        " f3=open(\"file.txt\",\"w\")\n",
        "f3.close()"
      ],
      "execution_count": 24,
      "outputs": []
    },
    {
      "cell_type": "code",
      "metadata": {
        "id": "gTBVOg6947yZ",
        "colab_type": "code",
        "colab": {}
      },
      "source": [
        " f3=open(\"file.txt\",\"w\")\n",
        "s='''i\n",
        "     love to\n",
        "     Code'''\n",
        "f3.write(s)\n",
        "f3.close()"
      ],
      "execution_count": 25,
      "outputs": []
    },
    {
      "cell_type": "code",
      "metadata": {
        "id": "lWRgx8rN5Bw_",
        "colab_type": "code",
        "colab": {
          "base_uri": "https://localhost:8080/",
          "height": 34
        },
        "outputId": "6fc5a026-999b-4f4e-8709-6902a7e798c5"
      },
      "source": [
        " f3=open(\"file.txt\",\"r\")\n",
        "s=f3.read()\n",
        "print(len(s.split('\\n')))\n",
        "f.close()"
      ],
      "execution_count": 26,
      "outputs": [
        {
          "output_type": "stream",
          "text": [
            "3\n"
          ],
          "name": "stdout"
        }
      ]
    },
    {
      "cell_type": "markdown",
      "metadata": {
        "id": "AuPUF1uO5IT9",
        "colab_type": "text"
      },
      "source": [
        " 9.write a python program to get the file size of a plain file."
      ]
    },
    {
      "cell_type": "code",
      "metadata": {
        "id": "hBlhvmpN5KDY",
        "colab_type": "code",
        "colab": {}
      },
      "source": [
        " file=open(\"test.txt\",\"w\")\n",
        "f.close()"
      ],
      "execution_count": 27,
      "outputs": []
    },
    {
      "cell_type": "code",
      "metadata": {
        "id": "vwAcbYFN5Rq2",
        "colab_type": "code",
        "colab": {}
      },
      "source": [
        " file=open(\"test.txt\",\"w\")\n",
        "file.write(\"good night\")\n",
        "f.close()"
      ],
      "execution_count": 28,
      "outputs": []
    },
    {
      "cell_type": "code",
      "metadata": {
        "id": "1N4MrL6y5WTb",
        "colab_type": "code",
        "colab": {
          "base_uri": "https://localhost:8080/",
          "height": 34
        },
        "outputId": "74d63df3-8b47-43a7-e12d-d12ecca5b7c1"
      },
      "source": [
        " import os\n",
        "os.path.getsize(\"test.txt\")"
      ],
      "execution_count": 29,
      "outputs": [
        {
          "output_type": "execute_result",
          "data": {
            "text/plain": [
              "0"
            ]
          },
          "metadata": {
            "tags": []
          },
          "execution_count": 29
        }
      ]
    },
    {
      "cell_type": "markdown",
      "metadata": {
        "id": "Coc8yGw15hh5",
        "colab_type": "text"
      },
      "source": [
        " 10.write a python program to copy the contents of a file into another."
      ]
    },
    {
      "cell_type": "code",
      "metadata": {
        "id": "mFMWLhcL5ij8",
        "colab_type": "code",
        "colab": {}
      },
      "source": [
        " file1=open(\"f1.txt\",\"w\")\n",
        "file1.close()"
      ],
      "execution_count": 30,
      "outputs": []
    },
    {
      "cell_type": "code",
      "metadata": {
        "id": "28TbYZ9i5qxE",
        "colab_type": "code",
        "colab": {}
      },
      "source": [
        " file1=open(\"f1.txt\",\"w\")\n",
        "s='''welcome \n",
        "     to gitam \n",
        "     University'''\n",
        "file1.write(s)\n",
        "file1.close()"
      ],
      "execution_count": 31,
      "outputs": []
    },
    {
      "cell_type": "code",
      "metadata": {
        "id": "zKelrAiu50UF",
        "colab_type": "code",
        "colab": {}
      },
      "source": [
        " file2=open(\"f2.txt\",\"w\")\n",
        "file1=open(\"f1.txt\",\"r\")\n",
        "for line in file1:\n",
        "  file2.write(line)\n",
        "file1.close()\n",
        "file2.close()"
      ],
      "execution_count": 32,
      "outputs": []
    }
  ]
}