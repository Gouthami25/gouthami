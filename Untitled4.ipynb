{
  "nbformat": 4,
  "nbformat_minor": 0,
  "metadata": {
    "colab": {
      "name": "Untitled4.ipynb",
      "provenance": [],
      "authorship_tag": "ABX9TyM180C51tUwS2CkyZkPRe6b",
      "include_colab_link": true
    },
    "kernelspec": {
      "name": "python3",
      "display_name": "Python 3"
    }
  },
  "cells": [
    {
      "cell_type": "markdown",
      "metadata": {
        "id": "view-in-github",
        "colab_type": "text"
      },
      "source": [
        "<a href=\"https://colab.research.google.com/github/Gouthami25/gouthami/blob/master/Untitled4.ipynb\" target=\"_parent\"><img src=\"https://colab.research.google.com/assets/colab-badge.svg\" alt=\"Open In Colab\"/></a>"
      ]
    },
    {
      "cell_type": "code",
      "metadata": {
        "id": "Kcv76td3wtKP",
        "colab_type": "code",
        "colab": {}
      },
      "source": [
        ""
      ],
      "execution_count": null,
      "outputs": []
    },
    {
      "cell_type": "markdown",
      "metadata": {
        "id": "kjYIqNUEw0SM",
        "colab_type": "text"
      },
      "source": [
        " Write a Python program to calculate the length of a string."
      ]
    },
    {
      "cell_type": "code",
      "metadata": {
        "id": "FM0W2X7yxBg7",
        "colab_type": "code",
        "colab": {
          "base_uri": "https://localhost:8080/",
          "height": 34
        },
        "outputId": "55ad8e81-b0e5-4415-fe62-a3343d2f9e18"
      },
      "source": [
        " a=\"hello\"\n",
        "print(len(a))"
      ],
      "execution_count": 1,
      "outputs": [
        {
          "output_type": "stream",
          "text": [
            "5\n"
          ],
          "name": "stdout"
        }
      ]
    },
    {
      "cell_type": "markdown",
      "metadata": {
        "id": "WuVDeDZPxw9d",
        "colab_type": "text"
      },
      "source": [
        " Write a Python program to count the number of characters (character frequency) in a string."
      ]
    },
    {
      "cell_type": "code",
      "metadata": {
        "id": "IeQwVoPn01gt",
        "colab_type": "code",
        "colab": {
          "base_uri": "https://localhost:8080/",
          "height": 71
        },
        "outputId": "56838b1a-bb61-4660-dd01-32cdf9a3514c"
      },
      "source": [
        "a=str(input('enter the string'))\n",
        "count=0\n",
        "for i in a:\n",
        "  count=count+1\n",
        "print(\"total no.of characters in this string=\",count)"
      ],
      "execution_count": 3,
      "outputs": [
        {
          "output_type": "stream",
          "text": [
            "enter the stringGouthami\n",
            "total no.of characters in this string= 8\n"
          ],
          "name": "stdout"
        }
      ]
    },
    {
      "cell_type": "markdown",
      "metadata": {
        "id": "w3wGyizI0_dK",
        "colab_type": "text"
      },
      "source": [
        " Write a Python program to get a single string from two given strings, separated by a space and swap the first two characters of each string"
      ]
    },
    {
      "cell_type": "code",
      "metadata": {
        "id": "0YrQthOP1CsJ",
        "colab_type": "code",
        "colab": {
          "base_uri": "https://localhost:8080/",
          "height": 51
        },
        "outputId": "e5b9ce24-c53e-49a6-99aa-e43903e76b44"
      },
      "source": [
        " c = input()\n",
        "t = len(c)\n",
        "temp = \"\"\n",
        "for i in range(0,len(c)):\n",
        "    if t<3:\n",
        "        break\n",
        "    else:\n",
        "        if i in (0,1,t-2,t-1):\n",
        "            temp = temp+c[i]\n",
        "        else:\n",
        "            continue\n",
        "print(temp)"
      ],
      "execution_count": 4,
      "outputs": [
        {
          "output_type": "stream",
          "text": [
            "Gouthami\n",
            "Gomi\n"
          ],
          "name": "stdout"
        }
      ]
    },
    {
      "cell_type": "markdown",
      "metadata": {
        "id": "dmGfF0h82bOs",
        "colab_type": "text"
      },
      "source": [
        " Write a Python script that takes input from the user and displays that input back in upper and lower cases"
      ]
    },
    {
      "cell_type": "code",
      "metadata": {
        "id": "wGKZzOz62goh",
        "colab_type": "code",
        "colab": {
          "base_uri": "https://localhost:8080/",
          "height": 34
        },
        "outputId": "8b632ddc-24d6-4c92-ac8b-d6bf2a8caf95"
      },
      "source": [
        " a=\"hello\"\n",
        "print(a.upper())"
      ],
      "execution_count": 5,
      "outputs": [
        {
          "output_type": "stream",
          "text": [
            "HELLO\n"
          ],
          "name": "stdout"
        }
      ]
    },
    {
      "cell_type": "markdown",
      "metadata": {
        "id": "hH91o0373Fv6",
        "colab_type": "text"
      },
      "source": [
        " Write a Python program to remove a newline in Python."
      ]
    },
    {
      "cell_type": "code",
      "metadata": {
        "id": "i21TP2Ez3J3u",
        "colab_type": "code",
        "colab": {
          "base_uri": "https://localhost:8080/",
          "height": 51
        },
        "outputId": "15e55ad7-691f-4f42-d38d-961500eee04f"
      },
      "source": [
        " str1=\"hello\"\n",
        "print(str1)\n",
        "print(str1.strip())"
      ],
      "execution_count": 6,
      "outputs": [
        {
          "output_type": "stream",
          "text": [
            "hello\n",
            "hello\n"
          ],
          "name": "stdout"
        }
      ]
    },
    {
      "cell_type": "markdown",
      "metadata": {
        "id": "ql0dXX7r3Q_b",
        "colab_type": "text"
      },
      "source": [
        " Write a Python program to count occurrences of a substring in a string."
      ]
    },
    {
      "cell_type": "code",
      "metadata": {
        "id": "iBZkXvSc3VFE",
        "colab_type": "code",
        "colab": {
          "base_uri": "https://localhost:8080/",
          "height": 69
        },
        "outputId": "43f8207d-ce56-45a5-9b9e-4cc9e0d2f084"
      },
      "source": [
        " str1 = 'this is revanth and i am from tadipatri and i wanna go for a tour'\n",
        "print()\n",
        "print(str1.count(\"and\"))\n",
        "print()"
      ],
      "execution_count": 7,
      "outputs": [
        {
          "output_type": "stream",
          "text": [
            "\n",
            "2\n",
            "\n"
          ],
          "name": "stdout"
        }
      ]
    },
    {
      "cell_type": "markdown",
      "metadata": {
        "id": "eG3aJ3oW3toi",
        "colab_type": "text"
      },
      "source": [
        " Write a Python program to convert a string in a list."
      ]
    },
    {
      "cell_type": "code",
      "metadata": {
        "id": "9P8teWoW31ik",
        "colab_type": "code",
        "colab": {
          "base_uri": "https://localhost:8080/",
          "height": 34
        },
        "outputId": "741b9b98-df3f-42f5-9f86-e63409b06338"
      },
      "source": [
        " def Convert(string): \n",
        "    li = list(string.split(\"-\")) \n",
        "    return li    \n",
        "str1 = \"gouthami\"\n",
        "print(Convert(str1))"
      ],
      "execution_count": 9,
      "outputs": [
        {
          "output_type": "stream",
          "text": [
            "['gouthami']\n"
          ],
          "name": "stdout"
        }
      ]
    },
    {
      "cell_type": "markdown",
      "metadata": {
        "id": "58xgKwGU4BhC",
        "colab_type": "text"
      },
      "source": [
        " Write a Python program to perform Deletion of a character"
      ]
    },
    {
      "cell_type": "code",
      "metadata": {
        "id": "-yjzfUrW4FHf",
        "colab_type": "code",
        "colab": {
          "base_uri": "https://localhost:8080/",
          "height": 151
        },
        "outputId": "e11c96b6-96d0-45c7-b796-f96055a7a970"
      },
      "source": [
        " s = 'gouthami'\n",
        "print(s.del('a',''))"
      ],
      "execution_count": 11,
      "outputs": [
        {
          "output_type": "error",
          "ename": "SyntaxError",
          "evalue": "ignored",
          "traceback": [
            "\u001b[0;36m  File \u001b[0;32m\"<ipython-input-11-cefdf46620e6>\"\u001b[0;36m, line \u001b[0;32m2\u001b[0m\n\u001b[0;31m    print(s.del('a',''))\u001b[0m\n\u001b[0m              ^\u001b[0m\n\u001b[0;31mSyntaxError\u001b[0m\u001b[0;31m:\u001b[0m invalid syntax\n"
          ]
        }
      ]
    },
    {
      "cell_type": "markdown",
      "metadata": {
        "id": "q7Dw8rih4a1N",
        "colab_type": "text"
      },
      "source": [
        " Write a program to print every character of a string entered by user in a new line using loop."
      ]
    },
    {
      "cell_type": "code",
      "metadata": {
        "id": "dOG-nfbU4c4u",
        "colab_type": "code",
        "colab": {
          "base_uri": "https://localhost:8080/",
          "height": 86
        },
        "outputId": "46f93e83-2c64-4601-9235-4fd8ed3757d5"
      },
      "source": [
        " word = 'pass'\n",
        "print(word[0])\n",
        "print(word[1])\n",
        "print(word[2])\n",
        "print(word[3])"
      ],
      "execution_count": 12,
      "outputs": [
        {
          "output_type": "stream",
          "text": [
            "p\n",
            "a\n",
            "s\n",
            "s\n"
          ],
          "name": "stdout"
        }
      ]
    }
  ]
}