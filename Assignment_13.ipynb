{
  "nbformat": 4,
  "nbformat_minor": 0,
  "metadata": {
    "colab": {
      "name": "Assignment 13",
      "provenance": [],
      "authorship_tag": "ABX9TyMaxSsi7uPX3RHedkDYaZi0",
      "include_colab_link": true
    },
    "kernelspec": {
      "name": "python3",
      "display_name": "Python 3"
    }
  },
  "cells": [
    {
      "cell_type": "markdown",
      "metadata": {
        "id": "view-in-github",
        "colab_type": "text"
      },
      "source": [
        "<a href=\"https://colab.research.google.com/github/Gouthami25/gouthami/blob/master/Assignment_13.ipynb\" target=\"_parent\"><img src=\"https://colab.research.google.com/assets/colab-badge.svg\" alt=\"Open In Colab\"/></a>"
      ]
    },
    {
      "cell_type": "code",
      "metadata": {
        "id": "PiE4p-XqmY0q",
        "colab_type": "code",
        "colab": {}
      },
      "source": [
        ""
      ],
      "execution_count": null,
      "outputs": []
    },
    {
      "cell_type": "markdown",
      "metadata": {
        "id": "1qDgMEyUmkP1",
        "colab_type": "text"
      },
      "source": [
        " What is dictionary in Python? Explain with an example"
      ]
    },
    {
      "cell_type": "markdown",
      "metadata": {
        "id": "2uE7yU7omeqJ",
        "colab_type": "text"
      },
      "source": [
        " Python Dictionary are defined into two elements i.e., keys and values 1. keys will be in Single Element 2. Values can be in list or list within a list,numbers etc."
      ]
    },
    {
      "cell_type": "markdown",
      "metadata": {
        "id": "ANd4vmYVmoDc",
        "colab_type": "text"
      },
      "source": [
        " Syntax: dict={'gouthami':24,jhdsfvy,...}"
      ]
    },
    {
      "cell_type": "code",
      "metadata": {
        "id": "PabPpY-UmwEQ",
        "colab_type": "code",
        "colab": {
          "base_uri": "https://localhost:8080/",
          "height": 151
        },
        "outputId": "55668ba2-5995-44c0-d459-7a06889bc921"
      },
      "source": [
        "Python Dictionary are defined into two elements i.e., keys and values 1. keys will be in Single Element 2. Values can be in list or list within a list,numbers etc.\n",
        "Syntax: dict={'gouthami':24,jhdsfvy,...}"
      ],
      "execution_count": 3,
      "outputs": [
        {
          "output_type": "error",
          "ename": "SyntaxError",
          "evalue": "ignored",
          "traceback": [
            "\u001b[0;36m  File \u001b[0;32m\"<ipython-input-3-b7549a6922a0>\"\u001b[0;36m, line \u001b[0;32m1\u001b[0m\n\u001b[0;31m    Python Dictionary are defined into two elements i.e., keys and values 1. keys will be in Single Element 2. Values can be in list or list within a list,numbers etc.\u001b[0m\n\u001b[0m                    ^\u001b[0m\n\u001b[0;31mSyntaxError\u001b[0m\u001b[0;31m:\u001b[0m invalid syntax\n"
          ]
        }
      ]
    },
    {
      "cell_type": "markdown",
      "metadata": {
        "id": "sCB5DK8VnU3Y",
        "colab_type": "text"
      },
      "source": [
        " Write a Python program to sum all the items in a list."
      ]
    },
    {
      "cell_type": "code",
      "metadata": {
        "id": "5LZTssG2nXI_",
        "colab_type": "code",
        "colab": {
          "base_uri": "https://localhost:8080/",
          "height": 34
        },
        "outputId": "ef758d77-49d6-404b-9e3c-d4c7e7cdc46e"
      },
      "source": [
        " def sum_list(items):\n",
        "    sum_numbers = 0\n",
        "    for x in items:\n",
        "        sum_numbers += x\n",
        "    return sum_numbers\n",
        "print(sum_list([5,6,-8]))"
      ],
      "execution_count": 4,
      "outputs": [
        {
          "output_type": "stream",
          "text": [
            "3\n"
          ],
          "name": "stdout"
        }
      ]
    },
    {
      "cell_type": "markdown",
      "metadata": {
        "id": "i6e37s2WndOM",
        "colab_type": "text"
      },
      "source": [
        " Write a Python program to create a list of empty dictionaries."
      ]
    },
    {
      "cell_type": "code",
      "metadata": {
        "id": "skWD1i9bngOW",
        "colab_type": "code",
        "colab": {
          "base_uri": "https://localhost:8080/",
          "height": 34
        },
        "outputId": "121941f0-4019-493e-bdbd-6ac429539054"
      },
      "source": [
        " n = 5\n",
        "l = [{} for _ in range(n)]\n",
        "print(l)"
      ],
      "execution_count": 5,
      "outputs": [
        {
          "output_type": "stream",
          "text": [
            "[{}, {}, {}, {}, {}]\n"
          ],
          "name": "stdout"
        }
      ]
    },
    {
      "cell_type": "markdown",
      "metadata": {
        "id": "W2NFPBKinmyJ",
        "colab_type": "text"
      },
      "source": [
        " Write a Python program to access dictionary keys element by index."
      ]
    },
    {
      "cell_type": "code",
      "metadata": {
        "id": "vFpShHcHnnw9",
        "colab_type": "code",
        "colab": {
          "base_uri": "https://localhost:8080/",
          "height": 34
        },
        "outputId": "99c6ecb6-4f8e-43c3-800c-088363d99711"
      },
      "source": [
        " num = {'physics': 89, 'math': 99, 'chemistry': 86}\n",
        "print(list(num)[1])"
      ],
      "execution_count": 6,
      "outputs": [
        {
          "output_type": "stream",
          "text": [
            "math\n"
          ],
          "name": "stdout"
        }
      ]
    },
    {
      "cell_type": "markdown",
      "metadata": {
        "id": "gBt_Jk-An39h",
        "colab_type": "text"
      },
      "source": [
        " Write a Python program to iterate over dictionaries using for loops"
      ]
    },
    {
      "cell_type": "code",
      "metadata": {
        "id": "cBNQjbKcn6kZ",
        "colab_type": "code",
        "colab": {
          "base_uri": "https://localhost:8080/",
          "height": 69
        },
        "outputId": "d69ca599-54b6-49e2-d9c2-4b685f31402c"
      },
      "source": [
        " d = {'x': 10, 'y': 20, 'z': 30} \n",
        "for dict_key, dict_value in d.items():\n",
        "    print(dict_key,'->',dict_value)"
      ],
      "execution_count": 7,
      "outputs": [
        {
          "output_type": "stream",
          "text": [
            "x -> 10\n",
            "y -> 20\n",
            "z -> 30\n"
          ],
          "name": "stdout"
        }
      ]
    },
    {
      "cell_type": "markdown",
      "metadata": {
        "id": "UDQYz1qXoBO6",
        "colab_type": "text"
      },
      "source": [
        " Write a Python program to sum all the items in a dictionary."
      ]
    },
    {
      "cell_type": "code",
      "metadata": {
        "id": "bwkpoQxgoB5a",
        "colab_type": "code",
        "colab": {
          "base_uri": "https://localhost:8080/",
          "height": 34
        },
        "outputId": "8e7b47a7-b891-43c4-84b7-9808298de181"
      },
      "source": [
        " my_dict = {'data1':100,'data2':-54,'data3':247}\n",
        "print(sum(my_dict.values()))"
      ],
      "execution_count": 8,
      "outputs": [
        {
          "output_type": "stream",
          "text": [
            "293\n"
          ],
          "name": "stdout"
        }
      ]
    },
    {
      "cell_type": "markdown",
      "metadata": {
        "id": "eC7WJ6nHoI5t",
        "colab_type": "text"
      },
      "source": [
        " Write a Python script to concatenate following dictionaries to create a new one. Sample Dictionary: a. dic1 = {1:10, 2:20} b. dic2 = {3:30, 4:40} c. dic3 = {5:50, 6:60}"
      ]
    },
    {
      "cell_type": "code",
      "metadata": {
        "id": "7zjNcC0uoJ2K",
        "colab_type": "code",
        "colab": {
          "base_uri": "https://localhost:8080/",
          "height": 54
        },
        "outputId": "25ac0376-6152-481e-f6ad-dbe1d6ad87d9"
      },
      "source": [
        " dic1={1:10, 2:20}\n",
        "dic2={3:30, 4:40}\n",
        "dic3={5:50,6:60}\n",
        "dic4 = {}\n",
        "for d in (dic1, dic2, dic3): dic4.update(d)\n",
        "print(dic4)"
      ],
      "execution_count": 9,
      "outputs": [
        {
          "output_type": "stream",
          "text": [
            "{1: 10, 2: 20, 3: 30, 4: 40, 5: 50, 6: 60}\n"
          ],
          "name": "stdout"
        }
      ]
    }
  ]
}