{
  "nbformat": 4,
  "nbformat_minor": 0,
  "metadata": {
    "colab": {
      "name": "Untitled0.ipynb",
      "provenance": [],
      "authorship_tag": "ABX9TyNZunurGKdAnEeV3gHXA+wk",
      "include_colab_link": true
    },
    "kernelspec": {
      "name": "python3",
      "display_name": "Python 3"
    }
  },
  "cells": [
    {
      "cell_type": "markdown",
      "metadata": {
        "id": "view-in-github",
        "colab_type": "text"
      },
      "source": [
        "<a href=\"https://colab.research.google.com/github/Gouthami25/gouthami/blob/master/assignment3.ipynb\" target=\"_parent\"><img src=\"https://colab.research.google.com/assets/colab-badge.svg\" alt=\"Open In Colab\"/></a>"
      ]
    },
    {
      "cell_type": "markdown",
      "metadata": {
        "id": "bdzaTFnahWU_",
        "colab_type": "text"
      },
      "source": [
        "Program to take two inputs from user and check they are equal are not"
      ]
    },
    {
      "cell_type": "code",
      "metadata": {
        "id": "baJN15vrhl9W",
        "colab_type": "code",
        "colab": {
          "base_uri": "https://localhost:8080/",
          "height": 68
        },
        "outputId": "ac2d8698-a453-4fc9-f6b5-9630ed9e3a87"
      },
      "source": [
        "n1=int(input ())\n",
        "n2=int(input ())\n",
        "if n1==n2 :print( 'numbers are equal')\n",
        "else:print ( 'numbers are not equal')"
      ],
      "execution_count": 1,
      "outputs": [
        {
          "output_type": "stream",
          "text": [
            "2\n",
            "3\n",
            "numbers are not equal\n"
          ],
          "name": "stdout"
        }
      ]
    },
    {
      "cell_type": "markdown",
      "metadata": {
        "id": "0ZU5fsQViSRm",
        "colab_type": "text"
      },
      "source": [
        "Program to take three inputs from user. And check 1) all are equal 2)any of two are equal using and or"
      ]
    },
    {
      "cell_type": "code",
      "metadata": {
        "id": "9u7Ae0C1iykR",
        "colab_type": "code",
        "colab": {
          "base_uri": "https://localhost:8080/",
          "height": 85
        },
        "outputId": "75371c7c-3637-413b-e9b1-927bf625d169"
      },
      "source": [
        "n1=input()\n",
        "n2=input()\n",
        "n3=input()\n",
        "if n1==n2==n3: print('all are equal')\n",
        "elif n1==n2 or n2 ==n3 or n1==n3: print('any of two are equal')\n",
        "else:print ('none of them are equal')"
      ],
      "execution_count": 3,
      "outputs": [
        {
          "output_type": "stream",
          "text": [
            "Sa\n",
            "Nd\n",
            "Ep\n",
            "none of them are equal\n"
          ],
          "name": "stdout"
        }
      ]
    },
    {
      "cell_type": "markdown",
      "metadata": {
        "id": "vizNLOmDkK9o",
        "colab_type": "text"
      },
      "source": [
        "Program to take two numbers and check whether sum is greater than 5,less than 5,equal to 5"
      ]
    },
    {
      "cell_type": "code",
      "metadata": {
        "id": "YOcT8biHkgIv",
        "colab_type": "code",
        "colab": {
          "base_uri": "https://localhost:8080/",
          "height": 68
        },
        "outputId": "e42ccc9f-8b93-4955-c2f1-d7bed9695cf1"
      },
      "source": [
        "n1=int(input())\n",
        "n2=int(input())\n",
        "if n1+n2>5 :print ('their sum is greater than 5')\n",
        "elif n1+n2<5:print('their sum is less than 5')\n",
        "else :print ('they are equal')"
      ],
      "execution_count": 4,
      "outputs": [
        {
          "output_type": "stream",
          "text": [
            "2\n",
            "5\n",
            "their sum is greater than 5\n"
          ],
          "name": "stdout"
        }
      ]
    },
    {
      "cell_type": "markdown",
      "metadata": {
        "id": "VYY6Y_0GlqSV",
        "colab_type": "text"
      },
      "source": [
        "Suppose passing marks of a subject is 35 take input of marks from user and check whether it is greater than passing marks or not."
      ]
    },
    {
      "cell_type": "code",
      "metadata": {
        "id": "d5SJjX2HmFuL",
        "colab_type": "code",
        "colab": {
          "base_uri": "https://localhost:8080/",
          "height": 51
        },
        "outputId": "efe603bf-6ca8-4949-f375-4098d17e14a0"
      },
      "source": [
        "Mat=int(input('marks'))\n",
        "if Mat >35 :print ('greater than pass marks')\n",
        "elif Mat <35:print('less than pass marks')\n",
        "else :print ('equal marks')"
      ],
      "execution_count": 5,
      "outputs": [
        {
          "output_type": "stream",
          "text": [
            "marks36\n",
            "greater than pass marks\n"
          ],
          "name": "stdout"
        }
      ]
    },
    {
      "cell_type": "markdown",
      "metadata": {
        "id": "CLt2JwE8mvpr",
        "colab_type": "text"
      },
      "source": [
        "Write a python function to find the max of three numbers"
      ]
    },
    {
      "cell_type": "code",
      "metadata": {
        "id": "4j-E1Tx3m5n2",
        "colab_type": "code",
        "colab": {
          "base_uri": "https://localhost:8080/",
          "height": 85
        },
        "outputId": "e1645119-1046-4c6f-b566-e7c9d527faff"
      },
      "source": [
        "N1=int(input ())\n",
        "N2=int(input ())\n",
        "N3=int(input ())\n",
        "if N1 > N2 and N1 >N3:print( 'N1 is greater', N1)\n",
        "elif N2>N3:print('N2 is greter',N2)\n",
        "else :print ('N3 is greater',N3)\n"
      ],
      "execution_count": 6,
      "outputs": [
        {
          "output_type": "stream",
          "text": [
            "3\n",
            "5\n",
            "8\n",
            "N3 is greater 8\n"
          ],
          "name": "stdout"
        }
      ]
    }
  ]
}