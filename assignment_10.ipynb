{
  "nbformat": 4,
  "nbformat_minor": 0,
  "metadata": {
    "colab": {
      "name": "assignment 10.ipynb",
      "provenance": [],
      "authorship_tag": "ABX9TyPA6ExMqZ0iX3ki6K5S9Lmt",
      "include_colab_link": true
    },
    "kernelspec": {
      "name": "python3",
      "display_name": "Python 3"
    }
  },
  "cells": [
    {
      "cell_type": "markdown",
      "metadata": {
        "id": "view-in-github",
        "colab_type": "text"
      },
      "source": [
        "<a href=\"https://colab.research.google.com/github/Gouthami25/gouthami/blob/master/assignment_10.ipynb\" target=\"_parent\"><img src=\"https://colab.research.google.com/assets/colab-badge.svg\" alt=\"Open In Colab\"/></a>"
      ]
    },
    {
      "cell_type": "code",
      "metadata": {
        "id": "hqt-eax2tsFH",
        "colab_type": "code",
        "colab": {}
      },
      "source": [
        "1.Write a Python program to get the largest & smallest number from a list."
      ],
      "execution_count": null,
      "outputs": []
    },
    {
      "cell_type": "code",
      "metadata": {
        "id": "MfuNy5q1t1ii",
        "colab_type": "code",
        "colab": {
          "base_uri": "https://localhost:8080/",
          "height": 34
        },
        "outputId": "67ff0d8e-6db8-4d0a-dbf7-0b3d5636741a"
      },
      "source": [
        "def smallest_num_in_list( list ):\n",
        "    min = list[ 0 ]\n",
        "    for a in list:\n",
        "        if a < min:\n",
        "            min = a\n",
        "    return min\n",
        "print(smallest_num_in_list([1, 2, -8, 0]))"
      ],
      "execution_count": 1,
      "outputs": [
        {
          "output_type": "stream",
          "text": [
            "-8\n"
          ],
          "name": "stdout"
        }
      ]
    },
    {
      "cell_type": "code",
      "metadata": {
        "id": "fej9PR7LuSCe",
        "colab_type": "code",
        "colab": {
          "base_uri": "https://localhost:8080/",
          "height": 34
        },
        "outputId": "84fc5469-73c9-421b-d5cf-ddb39297b9fd"
      },
      "source": [
        "def max_num_in_list( list ):\n",
        "    max = list[ 0 ]\n",
        "    for a in list:\n",
        "        if a > max:\n",
        "            max = a\n",
        "    return max\n",
        "print(max_num_in_list([1, 2, -8, 0]))"
      ],
      "execution_count": 2,
      "outputs": [
        {
          "output_type": "stream",
          "text": [
            "2\n"
          ],
          "name": "stdout"
        }
      ]
    },
    {
      "cell_type": "markdown",
      "metadata": {
        "id": "3TVVWEr2uUgD",
        "colab_type": "text"
      },
      "source": [
        "2.Write a Python program to remove duplicates from a list.\n"
      ]
    },
    {
      "cell_type": "code",
      "metadata": {
        "id": "ETnrQaLFu172",
        "colab_type": "code",
        "colab": {
          "base_uri": "https://localhost:8080/",
          "height": 34
        },
        "outputId": "b914c83b-efb1-4aa1-f93d-5de7a55c967f"
      },
      "source": [
        "duplicate=[1,3,5,3,7,10,7,3]\n",
        "print(list(set(duplicate)))"
      ],
      "execution_count": 9,
      "outputs": [
        {
          "output_type": "stream",
          "text": [
            "[1, 3, 5, 7, 10]\n"
          ],
          "name": "stdout"
        }
      ]
    },
    {
      "cell_type": "markdown",
      "metadata": {
        "id": "1pl5oVOWvALt",
        "colab_type": "text"
      },
      "source": [
        "3.Write a Python program to check a list is empty or not."
      ]
    },
    {
      "cell_type": "code",
      "metadata": {
        "id": "ui-akyqxvFuo",
        "colab_type": "code",
        "colab": {
          "base_uri": "https://localhost:8080/",
          "height": 34
        },
        "outputId": "b8b4a35a-7041-4c7a-86d8-e7a7b3781678"
      },
      "source": [
        "l = []\n",
        "if not l:\n",
        "  print(\"List is empty\")\n",
        "else:\n",
        "  print(\"List is not empty\")"
      ],
      "execution_count": 8,
      "outputs": [
        {
          "output_type": "stream",
          "text": [
            "List is empty\n"
          ],
          "name": "stdout"
        }
      ]
    },
    {
      "cell_type": "markdown",
      "metadata": {
        "id": "T4h5XZ0cvQBt",
        "colab_type": "text"
      },
      "source": [
        "4.Write a Python program to clone or copy a list."
      ]
    },
    {
      "cell_type": "code",
      "metadata": {
        "id": "k9OFe9oXvdjj",
        "colab_type": "code",
        "colab": {
          "base_uri": "https://localhost:8080/",
          "height": 51
        },
        "outputId": "dd0f96f2-6daf-49c1-d9da-19764aa58644"
      },
      "source": [
        "a=[10,3,15,12]\n",
        "new_list=list(a)\n",
        "print(a)\n",
        "print(new_list)"
      ],
      "execution_count": 7,
      "outputs": [
        {
          "output_type": "stream",
          "text": [
            "[10, 3, 15, 12]\n",
            "[10, 3, 15, 12]\n"
          ],
          "name": "stdout"
        }
      ]
    },
    {
      "cell_type": "markdown",
      "metadata": {
        "id": "-5Fe6a2xvjCG",
        "colab_type": "text"
      },
      "source": [
        "5.Write a Python program to print a specified list after removing the 0th, 4th and 5th elements. Sample List : ['Red', 'Green', 'White', 'Black', 'Pink', 'Yellow']"
      ]
    },
    {
      "cell_type": "code",
      "metadata": {
        "id": "eJbYr_wivoaw",
        "colab_type": "code",
        "colab": {
          "base_uri": "https://localhost:8080/",
          "height": 34
        },
        "outputId": "1f0db39f-9c6c-480c-db13-a1009da1d800"
      },
      "source": [
        "color = ['Red', 'Green', 'White', 'Black', 'Pink', 'Yellow']\n",
        "color = [x for (i,x) in enumerate(color) if i not in (0,4,5)]\n",
        "print(color)"
      ],
      "execution_count": 6,
      "outputs": [
        {
          "output_type": "stream",
          "text": [
            "['Green', 'White', 'Black']\n"
          ],
          "name": "stdout"
        }
      ]
    },
    {
      "cell_type": "markdown",
      "metadata": {
        "id": "jN3vpiiivvnd",
        "colab_type": "text"
      },
      "source": [
        "6.Write a Python program to print the numbers of a specified list after removing even numbers from it."
      ]
    },
    {
      "cell_type": "code",
      "metadata": {
        "id": "qe2EwhKHwA7z",
        "colab_type": "code",
        "colab": {
          "base_uri": "https://localhost:8080/",
          "height": 34
        },
        "outputId": "a3e941fa-281d-4a9b-8c94-3b45762dc12e"
      },
      "source": [
        "num = [7,8, 120, 25, 44, 20, 27]\n",
        "num = [x for x in num if x%2!=0]\n",
        "print(num)"
      ],
      "execution_count": 5,
      "outputs": [
        {
          "output_type": "stream",
          "text": [
            "[7, 25, 27]\n"
          ],
          "name": "stdout"
        }
      ]
    },
    {
      "cell_type": "markdown",
      "metadata": {
        "id": "nnpIs6iywJNo",
        "colab_type": "text"
      },
      "source": [
        "7.Write a Python program to shuffle and print a specified list."
      ]
    },
    {
      "cell_type": "code",
      "metadata": {
        "id": "Crc-lrBOwVw6",
        "colab_type": "code",
        "colab": {
          "base_uri": "https://localhost:8080/",
          "height": 34
        },
        "outputId": "29ac99bd-97c9-4f79-8fb2-186c6aa27891"
      },
      "source": [
        "from random import shuffle\n",
        "color = ['Red', 'Green', 'White', 'Black', 'Pink', 'Yellow']\n",
        "shuffle(color)\n",
        "print(color)"
      ],
      "execution_count": 4,
      "outputs": [
        {
          "output_type": "stream",
          "text": [
            "['Green', 'Yellow', 'White', 'Black', 'Pink', 'Red']\n"
          ],
          "name": "stdout"
        }
      ]
    },
    {
      "cell_type": "markdown",
      "metadata": {
        "id": "W55dNR3OwaEq",
        "colab_type": "text"
      },
      "source": [
        "8.Write a Python program to get the difference between the two lists."
      ]
    },
    {
      "cell_type": "code",
      "metadata": {
        "id": "wHNmepvxwkIs",
        "colab_type": "code",
        "colab": {
          "base_uri": "https://localhost:8080/",
          "height": 34
        },
        "outputId": "a173074a-340f-44eb-cb2d-fd8f130320cd"
      },
      "source": [
        "list1 = [1, 3, 5, 7, 9]\n",
        "list2=[1, 2, 4, 6, 7, 8]\n",
        "diff_list1_list2 = list(set(list1) - set(list2))\n",
        "diff_list2_list1 = list(set(list2) - set(list1))\n",
        "total_diff = diff_list1_list2 + diff_list2_list1\n",
        "print(total_diff)"
      ],
      "execution_count": 3,
      "outputs": [
        {
          "output_type": "stream",
          "text": [
            "[9, 3, 5, 8, 2, 4, 6]\n"
          ],
          "name": "stdout"
        }
      ]
    }
  ]
}