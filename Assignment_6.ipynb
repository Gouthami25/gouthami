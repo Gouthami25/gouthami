{
  "nbformat": 4,
  "nbformat_minor": 0,
  "metadata": {
    "colab": {
      "name": "Assignment 6",
      "provenance": [],
      "authorship_tag": "ABX9TyNJeGMIVqEruB/oMHWYq072",
      "include_colab_link": true
    },
    "kernelspec": {
      "name": "python3",
      "display_name": "Python 3"
    }
  },
  "cells": [
    {
      "cell_type": "markdown",
      "metadata": {
        "id": "view-in-github",
        "colab_type": "text"
      },
      "source": [
        "<a href=\"https://colab.research.google.com/github/Gouthami25/gouthami/blob/master/Assignment_6.ipynb\" target=\"_parent\"><img src=\"https://colab.research.google.com/assets/colab-badge.svg\" alt=\"Open In Colab\"/></a>"
      ]
    },
    {
      "cell_type": "code",
      "metadata": {
        "id": "otdd3A3vS1ai",
        "colab_type": "code",
        "colab": {}
      },
      "source": [
        ""
      ],
      "execution_count": null,
      "outputs": []
    },
    {
      "cell_type": "markdown",
      "metadata": {
        "id": "M6VqYr2_TMDI",
        "colab_type": "text"
      },
      "source": [
        " Python program to convert binary number to decimal."
      ]
    },
    {
      "cell_type": "code",
      "metadata": {
        "id": "YcMMLb6YTomd",
        "colab_type": "code",
        "colab": {
          "base_uri": "https://localhost:8080/",
          "height": 71
        },
        "outputId": "4b40be86-76d3-43ee-86e2-098aa0c7345b"
      },
      "source": [
        " b_num = list(input(\"Input a binary number: \"))\n",
        "value = 0\n",
        " \n",
        "for i in range(len(b_num)):\n",
        "    digit = b_num.pop()\n",
        "    if digit == '1':\n",
        "        value = value + pow(2, i)\n",
        "print(\"The decimal value of the number is\", value)"
      ],
      "execution_count": 2,
      "outputs": [
        {
          "output_type": "stream",
          "text": [
            "Input a binary number: 10010\n",
            "The decimal value of the number is 18\n"
          ],
          "name": "stdout"
        }
      ]
    },
    {
      "cell_type": "markdown",
      "metadata": {
        "id": "bNaxgdPmT0lu",
        "colab_type": "text"
      },
      "source": [
        " Python program to generate N number of fibonacci numbers take n value from user."
      ]
    },
    {
      "cell_type": "code",
      "metadata": {
        "id": "oTewXzCXT7Zc",
        "colab_type": "code",
        "colab": {
          "base_uri": "https://localhost:8080/",
          "height": 138
        },
        "outputId": "23beb489-650a-4842-d950-cc541ee4deb8"
      },
      "source": [
        " n = int(input(\"How many terms? \"))\n",
        " \n",
        "n1, n2 = 0, 1\n",
        "count = 0\n",
        " \n",
        "if n<= 0:\n",
        "   print(\"Please enter a positive integer\")\n",
        "elif n == 1:\n",
        "   print(\"Fibonacci sequence upto\",n,\":\")\n",
        "   print(n1)\n",
        "else:\n",
        "   print(\"Fibonacci sequence:\")\n",
        "   while count < n:\n",
        "       print(n1)\n",
        "       nth = n1 + n2\n",
        "    # update values\n",
        "       n1 = n2\n",
        "       n2 = nth\n",
        "       count += 1"
      ],
      "execution_count": 3,
      "outputs": [
        {
          "output_type": "stream",
          "text": [
            "How many terms? 5\n",
            "Fibonacci sequence:\n",
            "0\n",
            "1\n",
            "1\n",
            "2\n",
            "3\n"
          ],
          "name": "stdout"
        }
      ]
    },
    {
      "cell_type": "code",
      "metadata": {
        "id": "XJe7IIvrUUbC",
        "colab_type": "code",
        "colab": {}
      },
      "source": [
        " # Python program to display multiplication table of num.Take num value from the user."
      ],
      "execution_count": null,
      "outputs": []
    },
    {
      "cell_type": "code",
      "metadata": {
        "id": "b-Rh8SjNUYAw",
        "colab_type": "code",
        "colab": {
          "base_uri": "https://localhost:8080/",
          "height": 227
        },
        "outputId": "4d3c1197-0d73-4600-9fe8-69fe6ed46169"
      },
      "source": [
        " num = int(input(\"Enter the number to display multiplication table: \"))\n",
        " \n",
        "for i in range(1, 11):\n",
        "   print(num, 'x', i, '=', num*i)"
      ],
      "execution_count": 4,
      "outputs": [
        {
          "output_type": "stream",
          "text": [
            "Enter the number to display multiplication table: 10\n",
            "10 x 1 = 10\n",
            "10 x 2 = 20\n",
            "10 x 3 = 30\n",
            "10 x 4 = 40\n",
            "10 x 5 = 50\n",
            "10 x 6 = 60\n",
            "10 x 7 = 70\n",
            "10 x 8 = 80\n",
            "10 x 9 = 90\n",
            "10 x 10 = 100\n"
          ],
          "name": "stdout"
        }
      ]
    },
    {
      "cell_type": "code",
      "metadata": {
        "id": "tMRgkD14UsSY",
        "colab_type": "code",
        "colab": {}
      },
      "source": [
        " Python program to take 10 integers from keyboard using loop and print their average value on the screen."
      ],
      "execution_count": null,
      "outputs": []
    },
    {
      "cell_type": "code",
      "metadata": {
        "id": "06rGi2GNUvXz",
        "colab_type": "code",
        "colab": {
          "base_uri": "https://localhost:8080/",
          "height": 450
        },
        "outputId": "dbde6e14-4e9a-40e3-a141-c6340f1e8445"
      },
      "source": [
        "sum = 0\n",
        " \n",
        "i = 10\n",
        "while i>0:\n",
        "  print (\"Enter number\")\n",
        "  num = int(input())\n",
        "  sum = sum + num\n",
        "  i = i-1\n",
        "print (\"average is\",sum/10.0)\n",
        "# to print the patern\n",
        "i = 1\n",
        "while i<=4:\n",
        "  print (\"*\"*i)\n",
        "  i = i+1"
      ],
      "execution_count": 5,
      "outputs": [
        {
          "output_type": "stream",
          "text": [
            "Enter number\n",
            "1\n",
            "Enter number\n",
            "2\n",
            "Enter number\n",
            "3\n",
            "Enter number\n",
            "4\n",
            "Enter number\n",
            "5\n",
            "Enter number\n",
            "6\n",
            "Enter number\n",
            "7\n",
            "Enter number\n",
            "8\n",
            "Enter number\n",
            "9\n",
            "Enter number\n",
            "0\n",
            "average is 4.5\n",
            "*\n",
            "**\n",
            "***\n",
            "****\n"
          ],
          "name": "stdout"
        }
      ]
    },
    {
      "cell_type": "code",
      "metadata": {
        "id": "mz6u4wzOVdJM",
        "colab_type": "code",
        "colab": {}
      },
      "source": [
        "  Python program to find greatest common divisor (gcd) or highest common factor of given two numbers."
      ],
      "execution_count": null,
      "outputs": []
    },
    {
      "cell_type": "code",
      "metadata": {
        "id": "olfiT8diVfhr",
        "colab_type": "code",
        "colab": {
          "base_uri": "https://localhost:8080/",
          "height": 69
        },
        "outputId": "a9c29d3b-f15c-4516-d093-5b7e5d9386d7"
      },
      "source": [
        " def gcd(a,b): \n",
        "       \n",
        "    if (a == 0): \n",
        "        return b \n",
        "    if (b == 0): \n",
        "        return a \n",
        "   \n",
        "    if (a == b): \n",
        "        return a \n",
        "  \n",
        "    if (a > b): \n",
        "        return gcd(a-b, b) \n",
        "    return gcd(a, b-a) \n",
        "   \n",
        "a = int(input(\"Enter the value of a: \"))\n",
        "b = int(input(\"Enter the value of b: \"))\n",
        "if(gcd(a, b)): \n",
        "    print('GCD of', a, 'and', b, 'is', gcd(a, b)) \n",
        "else: \n",
        "    print('not found')"
      ],
      "execution_count": 8,
      "outputs": [
        {
          "output_type": "stream",
          "text": [
            "Enter the value of a: 4\n",
            "Enter the value of b: 9\n",
            "GCD of 4 and 9 is 1\n"
          ],
          "name": "stdout"
        }
      ]
    },
    {
      "cell_type": "code",
      "metadata": {
        "id": "bDcvuIIxV945",
        "colab_type": "code",
        "colab": {}
      },
      "source": [
        " Python program that accepts a word from the user and reverse it."
      ],
      "execution_count": null,
      "outputs": []
    },
    {
      "cell_type": "code",
      "metadata": {
        "id": "bLcyWgqNWAxb",
        "colab_type": "code",
        "colab": {
          "base_uri": "https://localhost:8080/",
          "height": 69
        },
        "outputId": "5894843e-30be-4cfe-e9df-5d479469396a"
      },
      "source": [
        " word = input(\"Input a word to reverse: \")\n",
        " \n",
        "for char in range(len(word) - 1, -1, -1):\n",
        "  print(word[char], end=\"\")\n",
        "print(\"\\n\")"
      ],
      "execution_count": 6,
      "outputs": [
        {
          "output_type": "stream",
          "text": [
            "Input a word to reverse: Hello\n",
            "olleH\n",
            "\n"
          ],
          "name": "stdout"
        }
      ]
    },
    {
      "cell_type": "code",
      "metadata": {
        "id": "_mWJi52dWTwd",
        "colab_type": "code",
        "colab": {}
      },
      "source": [
        " Python program to to count the number of even and odd numbers from a series of numbers."
      ],
      "execution_count": null,
      "outputs": []
    },
    {
      "cell_type": "code",
      "metadata": {
        "id": "3ww_-uwUWWS-",
        "colab_type": "code",
        "colab": {
          "base_uri": "https://localhost:8080/",
          "height": 51
        },
        "outputId": "038e0e72-b06b-4b19-c9b4-7f7d0a281b37"
      },
      "source": [
        " numbers = (1, 2, 3, 4, 5, 6, 7, 8, 9)\n",
        "count_odd = 0\n",
        "count_even = 0\n",
        "for x in numbers:\n",
        "        if not x % 2:\n",
        "             count_even+=1\n",
        "        else:\n",
        "             count_odd+=1\n",
        "print(\"Number of even numbers :\",count_even)\n",
        "print(\"Number of odd numbers :\",count_odd)"
      ],
      "execution_count": 7,
      "outputs": [
        {
          "output_type": "stream",
          "text": [
            "Number of even numbers : 4\n",
            "Number of odd numbers : 5\n"
          ],
          "name": "stdout"
        }
      ]
    },
    {
      "cell_type": "code",
      "metadata": {
        "id": "c05G8wNtWf8p",
        "colab_type": "code",
        "colab": {}
      },
      "source": [
        " Python program that prints all of the numbers from 0 to 6 except 3 and 6."
      ],
      "execution_count": null,
      "outputs": []
    },
    {
      "cell_type": "code",
      "metadata": {
        "id": "VduCYkblWh1a",
        "colab_type": "code",
        "colab": {
          "base_uri": "https://localhost:8080/",
          "height": 51
        },
        "outputId": "35bf056f-ba90-4aa2-b134-d72cb382fdc1"
      },
      "source": [
        " for x in range(6):\n",
        "    if (x == 3 or x==6):\n",
        "        continue\n",
        "    print(x,end=' ')\n",
        "print(\"\\n\")"
      ],
      "execution_count": 9,
      "outputs": [
        {
          "output_type": "stream",
          "text": [
            "0 1 2 4 5 \n",
            "\n"
          ],
          "name": "stdout"
        }
      ]
    },
    {
      "cell_type": "markdown",
      "metadata": {
        "id": "MIZ79MgWV1wg",
        "colab_type": "text"
      },
      "source": [
        ""
      ]
    }
  ]
}